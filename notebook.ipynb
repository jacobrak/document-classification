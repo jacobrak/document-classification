{
 "cells": [
  {
   "cell_type": "code",
   "execution_count": 1,
   "metadata": {},
   "outputs": [
    {
     "data": {
      "text/html": [
       "<div>\n",
       "<style scoped>\n",
       "    .dataframe tbody tr th:only-of-type {\n",
       "        vertical-align: middle;\n",
       "    }\n",
       "\n",
       "    .dataframe tbody tr th {\n",
       "        vertical-align: top;\n",
       "    }\n",
       "\n",
       "    .dataframe thead th {\n",
       "        text-align: right;\n",
       "    }\n",
       "</style>\n",
       "<table border=\"1\" class=\"dataframe\">\n",
       "  <thead>\n",
       "    <tr style=\"text-align: right;\">\n",
       "      <th></th>\n",
       "      <th>text</th>\n",
       "      <th>label</th>\n",
       "    </tr>\n",
       "  </thead>\n",
       "  <tbody>\n",
       "    <tr>\n",
       "      <th>0</th>\n",
       "      <td>Transcriber's Note:\\nEvery effort has been mad...</td>\n",
       "      <td>0</td>\n",
       "    </tr>\n",
       "    <tr>\n",
       "      <th>1</th>\n",
       "      <td>“In a few moments Marianne, Solomin, Paul,\\n\\n...</td>\n",
       "      <td>0</td>\n",
       "    </tr>\n",
       "    <tr>\n",
       "      <th>2</th>\n",
       "      <td>“Marianne knelt beside the sofa.… Nezhdanof\\n\\...</td>\n",
       "      <td>0</td>\n",
       "    </tr>\n",
       "    <tr>\n",
       "      <th>3</th>\n",
       "      <td>“Solomin raised Marianne's hand, her head\\n\\nl...</td>\n",
       "      <td>0</td>\n",
       "    </tr>\n",
       "    <tr>\n",
       "      <th>4</th>\n",
       "      <td>“He now was no longer, but the hands of\\n\\nSol...</td>\n",
       "      <td>0</td>\n",
       "    </tr>\n",
       "  </tbody>\n",
       "</table>\n",
       "</div>"
      ],
      "text/plain": [
       "                                                text  label\n",
       "0  Transcriber's Note:\\nEvery effort has been mad...      0\n",
       "1  “In a few moments Marianne, Solomin, Paul,\\n\\n...      0\n",
       "2  “Marianne knelt beside the sofa.… Nezhdanof\\n\\...      0\n",
       "3  “Solomin raised Marianne's hand, her head\\n\\nl...      0\n",
       "4  “He now was no longer, but the hands of\\n\\nSol...      0"
      ]
     },
     "execution_count": 1,
     "metadata": {},
     "output_type": "execute_result"
    }
   ],
   "source": [
    "import pymongo\n",
    "import pandas as pd \n",
    "import re\n",
    "from sklearn.feature_extraction.text import TfidfVectorizer\n",
    "\n",
    "client = pymongo.MongoClient(\"mongodb://localhost:27017/\")\n",
    "db = client[\"story_database\"]  # Database name\n",
    "collection = db[\"short_stories\"]\n",
    "\n",
    "documents = collection.find()\n",
    "\n",
    "df_raw = pd.DataFrame(list(documents))\n",
    "df_raw = df_raw[[\"text\", \"label\"]]\n",
    "df_raw.head(5)"
   ]
  },
  {
   "cell_type": "code",
   "execution_count": 2,
   "metadata": {},
   "outputs": [],
   "source": [
    "# Define the cleaning function\n",
    "def clean_text(text):\n",
    "\n",
    "    text = text.replace('\\n', ' ') \n",
    "    text = re.sub(r'=', '', text)  \n",
    "\n",
    "    # Keep only English alphabet characters and spaces \n",
    "    text = re.sub(r'[^a-zA-Z\\s]', '', text)\n",
    "\n",
    "    # Remove extra whitespace\n",
    "    text = ' '.join(text.split())\n",
    "\n",
    "    return text\n",
    "\n",
    "df_raw['cleaned_text'] = df_raw['text'].apply(clean_text)\n",
    "\n",
    "df = df_raw[[\"cleaned_text\", \"label\"]]"
   ]
  },
  {
   "cell_type": "markdown",
   "metadata": {},
   "source": [
    "# Vectorize the data\n"
   ]
  },
  {
   "cell_type": "code",
   "execution_count": 3,
   "metadata": {},
   "outputs": [
    {
     "name": "stdout",
     "output_type": "stream",
     "text": [
      "              precision    recall  f1-score   support\n",
      "\n",
      "           0       0.97      0.97      0.97        33\n",
      "           1       0.98      0.98      0.98        54\n",
      "\n",
      "    accuracy                           0.98        87\n",
      "   macro avg       0.98      0.98      0.98        87\n",
      "weighted avg       0.98      0.98      0.98        87\n",
      "\n"
     ]
    }
   ],
   "source": [
    "from sklearn.linear_model import LogisticRegression \n",
    "from sklearn.model_selection import train_test_split\n",
    "from sklearn.metrics import classification_report, confusion_matrix\n",
    "\n",
    "df_shuffled = df.sample(frac=1).reset_index(drop=True)\n",
    "\n",
    "\n",
    "X = df_shuffled[\"cleaned_text\"]\n",
    "y = df_shuffled[\"label\"]\n",
    "\n",
    "vectorizer = TfidfVectorizer()\n",
    "X = vectorizer.fit_transform(X)\n",
    "\n",
    "X_train, X_test, y_train, y_test = train_test_split(X, y, test_size=0.5, random_state=42)\n",
    "\n",
    "\n",
    "clf = LogisticRegression(max_iter=1000)  # max_iter to ensure convergence\n",
    "clf.fit(X_train, y_train)\n",
    "        \n",
    "y_pred = clf.predict(X_test)\n",
    "\n",
    "cleaned_data = (classification_report(y_test, y_pred))\n",
    "print(cleaned_data)"
   ]
  },
  {
   "cell_type": "markdown",
   "metadata": {},
   "source": [
    "Wow this was a bit anticlimactic, lets mess the data up see if we get the same results"
   ]
  },
  {
   "cell_type": "markdown",
   "metadata": {},
   "source": [
    "# Lets not clean the data!"
   ]
  },
  {
   "cell_type": "code",
   "execution_count": 4,
   "metadata": {},
   "outputs": [
    {
     "name": "stdout",
     "output_type": "stream",
     "text": [
      "              precision    recall  f1-score   support\n",
      "\n",
      "           0       1.00      0.81      0.90        37\n",
      "           1       0.88      1.00      0.93        50\n",
      "\n",
      "    accuracy                           0.92        87\n",
      "   macro avg       0.94      0.91      0.92        87\n",
      "weighted avg       0.93      0.92      0.92        87\n",
      "\n"
     ]
    }
   ],
   "source": [
    "df_shuffled = df_raw.sample(frac=1).reset_index(drop=True)\n",
    "\n",
    "X = df_shuffled[\"cleaned_text\"]\n",
    "y = df_shuffled[\"label\"]\n",
    "\n",
    "vectorizer = TfidfVectorizer()\n",
    "X = vectorizer.fit_transform(X)\n",
    "\n",
    "X_train, X_test, y_train, y_test = train_test_split(X, y, test_size=0.5, random_state=42)\n",
    "\n",
    "\n",
    "clf = LogisticRegression(max_iter=1000)  # max_iter to ensure convergence\n",
    "clf.fit(X_train, y_train)\n",
    "        \n",
    "y_pred = clf.predict(X_test)\n",
    "\n",
    "print(classification_report(y_test, y_pred))\n"
   ]
  },
  {
   "cell_type": "markdown",
   "metadata": {},
   "source": [
    "# Lets add data, fakenews!"
   ]
  },
  {
   "cell_type": "code",
   "execution_count": 5,
   "metadata": {},
   "outputs": [],
   "source": [
    "fakenews = pd.read_csv(\"data/fake_news.csv\")\n",
    "fakenews.columns = [\"cleaned_text\", \"label\"]"
   ]
  },
  {
   "cell_type": "code",
   "execution_count": 6,
   "metadata": {},
   "outputs": [],
   "source": [
    "data = pd.concat([fakenews, df], ignore_index=True)\n"
   ]
  },
  {
   "cell_type": "code",
   "execution_count": 7,
   "metadata": {},
   "outputs": [
    {
     "name": "stdout",
     "output_type": "stream",
     "text": [
      "              precision    recall  f1-score   support\n",
      "\n",
      "           0       1.00      0.78      0.87        40\n",
      "           1       0.94      0.94      0.94        51\n",
      "           2       0.80      0.96      0.87        46\n",
      "\n",
      "    accuracy                           0.90       137\n",
      "   macro avg       0.91      0.89      0.90       137\n",
      "weighted avg       0.91      0.90      0.90       137\n",
      "\n"
     ]
    }
   ],
   "source": [
    "df_shuffled = data.sample(frac=1).reset_index(drop=True)\n",
    "\n",
    "X = df_shuffled[\"cleaned_text\"]\n",
    "y = df_shuffled[\"label\"]\n",
    "\n",
    "vectorizer = TfidfVectorizer()\n",
    "X = vectorizer.fit_transform(X)\n",
    "\n",
    "X_train, X_test, y_train, y_test = train_test_split(X, y, test_size=0.5, random_state=42)\n",
    "\n",
    "\n",
    "clf = LogisticRegression(max_iter=1000)  # max_iter to ensure convergence\n",
    "clf.fit(X_train, y_train)\n",
    "        \n",
    "y_pred = clf.predict(X_test)\n",
    "\n",
    "print(classification_report(y_test, y_pred))\n"
   ]
  },
  {
   "cell_type": "code",
   "execution_count": 8,
   "metadata": {},
   "outputs": [
    {
     "data": {
      "text/plain": [
       "array([[31,  1,  8],\n",
       "       [ 0, 48,  3],\n",
       "       [ 0,  2, 44]], dtype=int64)"
      ]
     },
     "execution_count": 8,
     "metadata": {},
     "output_type": "execute_result"
    }
   ],
   "source": [
    "confusion_matrix(y_test, y_pred)"
   ]
  },
  {
   "cell_type": "markdown",
   "metadata": {},
   "source": [
    "## Is the vectorizer that good?"
   ]
  },
  {
   "cell_type": "code",
   "execution_count": 9,
   "metadata": {},
   "outputs": [],
   "source": [
    "bbc_news = pd.read_csv(\"data/bbc_news.csv\")\n",
    "bbc = bbc_news[[\"cleaned_text\", \"category_encoded\"]]\n",
    "bbc.columns =  [\"cleaned_text\", \"label\"]"
   ]
  },
  {
   "cell_type": "code",
   "execution_count": 10,
   "metadata": {},
   "outputs": [],
   "source": [
    "data = pd.concat([bbc, data], ignore_index=True)"
   ]
  },
  {
   "cell_type": "code",
   "execution_count": 11,
   "metadata": {},
   "outputs": [
    {
     "data": {
      "text/plain": [
       "label\n",
       "3    100\n",
       "6    100\n",
       "5    100\n",
       "7    100\n",
       "4    100\n",
       "2    100\n",
       "1    100\n",
       "0     74\n",
       "Name: count, dtype: int64"
      ]
     },
     "execution_count": 11,
     "metadata": {},
     "output_type": "execute_result"
    }
   ],
   "source": [
    "data[\"label\"].value_counts()"
   ]
  },
  {
   "cell_type": "code",
   "execution_count": 12,
   "metadata": {},
   "outputs": [
    {
     "name": "stdout",
     "output_type": "stream",
     "text": [
      "              precision    recall  f1-score   support\n",
      "\n",
      "           0       0.94      1.00      0.97        15\n",
      "           1       0.97      0.89      0.93        36\n",
      "           2       0.75      0.68      0.71        22\n",
      "           3       0.97      0.78      0.86        41\n",
      "           4       0.76      0.88      0.81        32\n",
      "           5       0.78      0.97      0.87        30\n",
      "           6       0.94      0.91      0.92        32\n",
      "           7       0.96      1.00      0.98        25\n",
      "\n",
      "    accuracy                           0.88       233\n",
      "   macro avg       0.88      0.89      0.88       233\n",
      "weighted avg       0.89      0.88      0.88       233\n",
      "\n"
     ]
    }
   ],
   "source": [
    "df_shuffled = data.sample(frac=1).reset_index(drop=True)\n",
    "\n",
    "X = df_shuffled[\"cleaned_text\"]\n",
    "y = df_shuffled[\"label\"]\n",
    "\n",
    "vectorizer = TfidfVectorizer()\n",
    "X = vectorizer.fit_transform(X)\n",
    "\n",
    "X_train, X_test, y_train, y_test = train_test_split(X, y, test_size=0.3, random_state=42)\n",
    "\n",
    "\n",
    "clf = LogisticRegression(max_iter=1000)  # max_iter to ensure convergence\n",
    "clf.fit(X_train, y_train)\n",
    "        \n",
    "y_pred = clf.predict(X_test)\n",
    "\n",
    "print(classification_report(y_test, y_pred))"
   ]
  },
  {
   "cell_type": "code",
   "execution_count": 13,
   "metadata": {},
   "outputs": [
    {
     "data": {
      "text/plain": [
       "array([[15,  0,  0,  0,  0,  0,  0,  0],\n",
       "       [ 0, 32,  1,  0,  1,  1,  1,  0],\n",
       "       [ 1,  0, 15,  1,  3,  2,  0,  0],\n",
       "       [ 0,  1,  1, 32,  3,  4,  0,  0],\n",
       "       [ 0,  0,  2,  0, 28,  0,  1,  1],\n",
       "       [ 0,  0,  1,  0,  0, 29,  0,  0],\n",
       "       [ 0,  0,  0,  0,  2,  1, 29,  0],\n",
       "       [ 0,  0,  0,  0,  0,  0,  0, 25]], dtype=int64)"
      ]
     },
     "execution_count": 13,
     "metadata": {},
     "output_type": "execute_result"
    }
   ],
   "source": [
    "confusion_matrix(y_test, y_pred)"
   ]
  },
  {
   "cell_type": "markdown",
   "metadata": {},
   "source": [
    "## Increasing the datas dimensions by adding more data as well as adding more things to classify is instead of worsening the model its getting improved?\n",
    "The TfidfVectorizer proves to be an excellent tool for vectorizing text data, as it does a near-perfect job of capturing the essence of the information. However, it's important to note that a vectorizer like TfidfVectorizer thrives on large datasets. While adding more labels was part of the improvement, it was the accompanying increase in data that enabled the creation of a more complex sparse matrix, allowing the model to perform more efficiently and effectively."
   ]
  },
  {
   "cell_type": "markdown",
   "metadata": {},
   "source": [
    "## Lets create a transformer"
   ]
  },
  {
   "cell_type": "code",
   "execution_count": 14,
   "metadata": {},
   "outputs": [],
   "source": [
    "df_deeplearning = df_shuffled"
   ]
  },
  {
   "cell_type": "code",
   "execution_count": 15,
   "metadata": {},
   "outputs": [],
   "source": [
    "from transformers import AutoTokenizer\n",
    "from torch.utils.data import DataLoader, TensorDataset\n",
    "import torch\n",
    "import torch.nn as nn\n",
    "import torch.optim as optim\n",
    "\n",
    "# Load a tokenizer\n",
    "tokenizer = AutoTokenizer.from_pretrained(\"bert-base-uncased\")\n",
    "\n",
    "# Use tokenizer to encode\n",
    "df_deeplearning['input_ids'] = df_deeplearning['cleaned_text'].apply(\n",
    "    lambda x: tokenizer.encode(x, truncation=True, padding='max_length', max_length=128)\n",
    ")"
   ]
  },
  {
   "cell_type": "code",
   "execution_count": 16,
   "metadata": {},
   "outputs": [
    {
     "data": {
      "text/html": [
       "<div>\n",
       "<style scoped>\n",
       "    .dataframe tbody tr th:only-of-type {\n",
       "        vertical-align: middle;\n",
       "    }\n",
       "\n",
       "    .dataframe tbody tr th {\n",
       "        vertical-align: top;\n",
       "    }\n",
       "\n",
       "    .dataframe thead th {\n",
       "        text-align: right;\n",
       "    }\n",
       "</style>\n",
       "<table border=\"1\" class=\"dataframe\">\n",
       "  <thead>\n",
       "    <tr style=\"text-align: right;\">\n",
       "      <th></th>\n",
       "      <th>cleaned_text</th>\n",
       "      <th>label</th>\n",
       "      <th>input_ids</th>\n",
       "    </tr>\n",
       "  </thead>\n",
       "  <tbody>\n",
       "    <tr>\n",
       "      <th>0</th>\n",
       "      <td>Beer giant swallows Russian firm  Brewing gian...</td>\n",
       "      <td>3</td>\n",
       "      <td>[101, 5404, 5016, 26436, 2845, 3813, 16005, 50...</td>\n",
       "    </tr>\n",
       "    <tr>\n",
       "      <th>1</th>\n",
       "      <td>Uganda bans Vagina Monologues  Ugandas authori...</td>\n",
       "      <td>6</td>\n",
       "      <td>[101, 10031, 7221, 2015, 12436, 20876, 18847, ...</td>\n",
       "    </tr>\n",
       "    <tr>\n",
       "      <th>2</th>\n",
       "      <td>Davies favours Gloucester future  Wales hooker...</td>\n",
       "      <td>7</td>\n",
       "      <td>[101, 9082, 7927, 2015, 13370, 2925, 3575, 170...</td>\n",
       "    </tr>\n",
       "    <tr>\n",
       "      <th>3</th>\n",
       "      <td>Elvis regains top chart position  Elvis Presle...</td>\n",
       "      <td>6</td>\n",
       "      <td>[101, 12280, 12452, 2015, 2327, 3673, 2597, 12...</td>\n",
       "    </tr>\n",
       "    <tr>\n",
       "      <th>4</th>\n",
       "      <td>In a few moments Marianne Solomin Paul and two...</td>\n",
       "      <td>0</td>\n",
       "      <td>[101, 1999, 1037, 2261, 5312, 19887, 3948, 100...</td>\n",
       "    </tr>\n",
       "    <tr>\n",
       "      <th>...</th>\n",
       "      <td>...</td>\n",
       "      <td>...</td>\n",
       "      <td>...</td>\n",
       "    </tr>\n",
       "    <tr>\n",
       "      <th>769</th>\n",
       "      <td>Ferguson rues failure to cut gap  Boss Sir Ale...</td>\n",
       "      <td>7</td>\n",
       "      <td>[101, 11262, 13413, 2015, 4945, 2000, 3013, 65...</td>\n",
       "    </tr>\n",
       "    <tr>\n",
       "      <th>770</th>\n",
       "      <td>Conquer Fortune he indeed did For in less than...</td>\n",
       "      <td>0</td>\n",
       "      <td>[101, 16152, 7280, 2002, 5262, 2106, 2005, 199...</td>\n",
       "    </tr>\n",
       "    <tr>\n",
       "      <th>771</th>\n",
       "      <td>Said the sinner Lord I hear thy voice but I se...</td>\n",
       "      <td>0</td>\n",
       "      <td>[101, 2056, 1996, 26403, 2121, 2935, 1045, 296...</td>\n",
       "    </tr>\n",
       "    <tr>\n",
       "      <th>772</th>\n",
       "      <td>Snow Patrol feted at Irish awards  Snow Patrol...</td>\n",
       "      <td>6</td>\n",
       "      <td>[101, 4586, 6477, 10768, 3064, 2012, 3493, 298...</td>\n",
       "    </tr>\n",
       "    <tr>\n",
       "      <th>773</th>\n",
       "      <td>The Asian Invitational Badminton Championships...</td>\n",
       "      <td>1</td>\n",
       "      <td>[101, 1996, 4004, 20129, 14618, 3219, 2029, 20...</td>\n",
       "    </tr>\n",
       "  </tbody>\n",
       "</table>\n",
       "<p>774 rows × 3 columns</p>\n",
       "</div>"
      ],
      "text/plain": [
       "                                          cleaned_text  label  \\\n",
       "0    Beer giant swallows Russian firm  Brewing gian...      3   \n",
       "1    Uganda bans Vagina Monologues  Ugandas authori...      6   \n",
       "2    Davies favours Gloucester future  Wales hooker...      7   \n",
       "3    Elvis regains top chart position  Elvis Presle...      6   \n",
       "4    In a few moments Marianne Solomin Paul and two...      0   \n",
       "..                                                 ...    ...   \n",
       "769  Ferguson rues failure to cut gap  Boss Sir Ale...      7   \n",
       "770  Conquer Fortune he indeed did For in less than...      0   \n",
       "771  Said the sinner Lord I hear thy voice but I se...      0   \n",
       "772  Snow Patrol feted at Irish awards  Snow Patrol...      6   \n",
       "773  The Asian Invitational Badminton Championships...      1   \n",
       "\n",
       "                                             input_ids  \n",
       "0    [101, 5404, 5016, 26436, 2845, 3813, 16005, 50...  \n",
       "1    [101, 10031, 7221, 2015, 12436, 20876, 18847, ...  \n",
       "2    [101, 9082, 7927, 2015, 13370, 2925, 3575, 170...  \n",
       "3    [101, 12280, 12452, 2015, 2327, 3673, 2597, 12...  \n",
       "4    [101, 1999, 1037, 2261, 5312, 19887, 3948, 100...  \n",
       "..                                                 ...  \n",
       "769  [101, 11262, 13413, 2015, 4945, 2000, 3013, 65...  \n",
       "770  [101, 16152, 7280, 2002, 5262, 2106, 2005, 199...  \n",
       "771  [101, 2056, 1996, 26403, 2121, 2935, 1045, 296...  \n",
       "772  [101, 4586, 6477, 10768, 3064, 2012, 3493, 298...  \n",
       "773  [101, 1996, 4004, 20129, 14618, 3219, 2029, 20...  \n",
       "\n",
       "[774 rows x 3 columns]"
      ]
     },
     "execution_count": 16,
     "metadata": {},
     "output_type": "execute_result"
    }
   ],
   "source": [
    "df_deeplearning"
   ]
  },
  {
   "cell_type": "code",
   "execution_count": 17,
   "metadata": {},
   "outputs": [],
   "source": [
    "input_ids = torch.tensor(df_deeplearning['input_ids'].tolist(), dtype=torch.long)\n",
    "labels = torch.tensor(df_deeplearning['label'].tolist(), dtype=torch.float)  # Assuming multi-label\n",
    "\n",
    "# Create torch dataset\n",
    "dataset = TensorDataset(input_ids, labels)\n",
    "\n",
    "train_length=int(0.7* len(dataset))\n",
    "\n",
    "test_length=len(dataset)-train_length\n",
    "\n",
    "train_dataset, test_dataset=torch.utils.data.random_split(dataset,(train_length,test_length))\n",
    "\n",
    "\n",
    "train_dataloader = DataLoader(dataset, batch_size=16, shuffle=True)\n",
    "\n",
    "\n",
    "test_loader = DataLoader(test_dataset, batch_size=32, shuffle=False)"
   ]
  },
  {
   "cell_type": "code",
   "execution_count": 18,
   "metadata": {},
   "outputs": [],
   "source": [
    "class SimpleModel(nn.Module):\n",
    "    def __init__(self, input_size, hidden_units, output_size):\n",
    "        super(SimpleModel, self).__init__()\n",
    "        self.layer1 = nn.Sequential(nn.Linear(input_size, hidden_units))\n",
    "        self.layer2 = nn.Linear(hidden_units, output_size)\n",
    "\n",
    "\n",
    "    def forward(self, x):\n",
    "        x = torch.relu(self.layer1(x))\n",
    "        x = self.layer2(x)  \n",
    "        return x\n",
    "    \n",
    "\n",
    "model_0 = SimpleModel(input_size=128, hidden_units=16, output_size=8)"
   ]
  },
  {
   "cell_type": "code",
   "execution_count": 19,
   "metadata": {},
   "outputs": [
    {
     "data": {
      "text/plain": [
       "torch.Size([774, 128])"
      ]
     },
     "execution_count": 19,
     "metadata": {},
     "output_type": "execute_result"
    }
   ],
   "source": [
    "input_ids.size()"
   ]
  },
  {
   "cell_type": "code",
   "execution_count": 20,
   "metadata": {},
   "outputs": [],
   "source": [
    "loss_fn = nn.CrossEntropyLoss()\n",
    "optimizer = torch.optim.Adam(model_0.parameters(), lr = 0.01)"
   ]
  },
  {
   "cell_type": "code",
   "execution_count": null,
   "metadata": {},
   "outputs": [
    {
     "name": "stdout",
     "output_type": "stream",
     "text": [
      "Epoch 1/100, Average Training Loss: 98.7219\n",
      "Epoch 21/100, Average Training Loss: 2.0798\n",
      "Epoch 41/100, Average Training Loss: 2.0768\n",
      "Epoch 61/100, Average Training Loss: 2.0778\n",
      "Epoch 81/100, Average Training Loss: 2.0766\n"
     ]
    }
   ],
   "source": [
    "def training_loop(loss_fn, optimizer, model,epochs=100):\n",
    "    device = torch.device(\"cuda\" if torch.cuda.is_available() else \"cpu\")\n",
    "    model.to(device)\n",
    "\n",
    "    for epoch in range(epochs):\n",
    "        train_loss = 0\n",
    "        for batch, (X, y) in enumerate(train_dataloader):\n",
    "            model.train()\n",
    "            \n",
    "\n",
    "            X, y = X.to(device), y.to(device)\n",
    "\n",
    "            X = X.float() \n",
    "            y = y.long()  \n",
    "            \n",
    "            y_pred = model(X)\n",
    "\n",
    "            loss = loss_fn(y_pred, y)\n",
    "            train_loss += loss.item()\n",
    "\n",
    "            optimizer.zero_grad()\n",
    "\n",
    "            loss.backward()\n",
    "            optimizer.step()\n",
    "\n",
    "        \n",
    "        train_loss /= len(train_dataloader)\n",
    "        \n",
    "        if epoch % 20 == 0:\n",
    "            print(f\"Epoch {epoch+1}/{epochs}, Average Training Loss: {train_loss:.4f}\")\n",
    "\n",
    "\n",
    "# Call the training loop\n",
    "training_loop(loss_fn=loss_fn, optimizer=optimizer, model=model_0, epochs=100)\n"
   ]
  },
  {
   "cell_type": "code",
   "execution_count": 22,
   "metadata": {},
   "outputs": [],
   "source": [
    "class MoreAdvancedModel(nn.Module):\n",
    "    def __init__(self, input_size, hidden_units, output_size):\n",
    "        super().__init__()\n",
    "        self.layer1 = nn.Sequential(nn.Linear(input_size, hidden_units))\n",
    "        self.layer2 = nn.Linear(hidden_units, hidden_units)\n",
    "        self.layer3 = nn.Linear(hidden_units, output_size)\n",
    "\n",
    "\n",
    "    def forward(self, x):\n",
    "        x = torch.relu(self.layer1(x))\n",
    "        x = torch.relu(self.layer2(x))\n",
    "        x = self.layer3(x)  \n",
    "        return x\n",
    "    \n",
    "\n",
    "model_1 = MoreAdvancedModel(input_size=128, hidden_units=512, output_size=8)"
   ]
  },
  {
   "cell_type": "code",
   "execution_count": 23,
   "metadata": {},
   "outputs": [],
   "source": [
    "loss_fn = nn.CrossEntropyLoss()\n",
    "optimizer = torch.optim.Adam(model_1.parameters(), lr = 0.01)"
   ]
  },
  {
   "cell_type": "code",
   "execution_count": 24,
   "metadata": {},
   "outputs": [
    {
     "name": "stdout",
     "output_type": "stream",
     "text": [
      "Epoch 1/100, Average Training Loss: 2.0750\n",
      "Epoch 21/100, Average Training Loss: 2.0748\n",
      "Epoch 41/100, Average Training Loss: 2.0756\n",
      "Epoch 61/100, Average Training Loss: 2.0749\n",
      "Epoch 81/100, Average Training Loss: 2.0762\n"
     ]
    }
   ],
   "source": [
    "training_loop(loss_fn=loss_fn, optimizer=optimizer, model=model_1, epochs=100)"
   ]
  },
  {
   "cell_type": "code",
   "execution_count": 25,
   "metadata": {},
   "outputs": [],
   "source": [
    "all_preds = []\n",
    "true_preds = []\n",
    "\n",
    "device = torch.device(\"cuda\" if torch.cuda.is_available() else \"cpu\")\n",
    "model_1.to(device)\n",
    "model_1.eval()\n",
    "with torch.no_grad():\n",
    "    for data in test_loader:\n",
    "        inputs = data[0].to(device).float()  \n",
    "        outputs = model_1(inputs)\n",
    "        preds = torch.argmax(outputs, dim=1)  # or outputs if you want raw logits/probs\n",
    "        all_preds.append(preds)\n",
    "        true_preds.append(data[1])\n",
    "\n",
    "true_preds = torch.cat(true_preds).tolist()\n",
    "final_preds = torch.cat(all_preds).tolist()"
   ]
  },
  {
   "cell_type": "code",
   "execution_count": 26,
   "metadata": {},
   "outputs": [],
   "source": [
    "from collections import defaultdict, Counter\n",
    "\n",
    "# Group predictions by true label\n",
    "label_predictions = defaultdict(list)\n",
    "\n",
    "for pred, true in zip(final_preds, true_preds):\n",
    "    label_predictions[true].append(pred)\n",
    "\n",
    "# Now sort the predictions by frequency for each true label\n",
    "sorted_preds_per_class = {\n",
    "    label: Counter(preds).most_common()  # Returns list of (pred, count) sorted by count\n",
    "    for label, preds in label_predictions.items()\n",
    "}\n"
   ]
  },
  {
   "cell_type": "code",
   "execution_count": 27,
   "metadata": {},
   "outputs": [
    {
     "data": {
      "text/plain": [
       "{5.0: [(3, 16), (7, 5), (1, 1), (4, 1), (6, 1)],\n",
       " 4.0: [(3, 11), (7, 7), (5, 4), (1, 2), (0, 2), (2, 1)],\n",
       " 7.0: [(3, 15), (7, 9), (6, 3), (1, 1), (0, 1), (5, 1)],\n",
       " 0.0: [(7, 8), (3, 7), (1, 4), (0, 2), (4, 1)],\n",
       " 2.0: [(7, 10), (3, 8), (6, 3), (1, 3), (5, 2)],\n",
       " 6.0: [(3, 15), (7, 14), (6, 3), (5, 3), (0, 2)],\n",
       " 3.0: [(3, 15), (7, 14), (5, 5), (4, 3), (6, 3), (1, 1), (0, 1)],\n",
       " 1.0: [(3, 10), (7, 9), (6, 3), (5, 2), (4, 1)]}"
      ]
     },
     "execution_count": 27,
     "metadata": {},
     "output_type": "execute_result"
    }
   ],
   "source": [
    "sorted_preds_per_class"
   ]
  },
  {
   "cell_type": "markdown",
   "metadata": {},
   "source": [
    "Just guesses 7 :/"
   ]
  }
 ],
 "metadata": {
  "kernelspec": {
   "display_name": "Python 3",
   "language": "python",
   "name": "python3"
  },
  "language_info": {
   "codemirror_mode": {
    "name": "ipython",
    "version": 3
   },
   "file_extension": ".py",
   "mimetype": "text/x-python",
   "name": "python",
   "nbconvert_exporter": "python",
   "pygments_lexer": "ipython3",
   "version": "3.12.1"
  }
 },
 "nbformat": 4,
 "nbformat_minor": 2
}
